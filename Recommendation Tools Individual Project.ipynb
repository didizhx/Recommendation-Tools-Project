{
 "cells": [
  {
   "cell_type": "markdown",
   "metadata": {},
   "source": [
    "<h1 align=\"center\"> Recommendation Tools Individual Project </h1>\n",
    "<h2 align=\"center\"> Amazon Reviews </h1>\n",
    "<h4 align=\"center\"> Dilda Zhaksybek, March 2022 </h1>\n"
   ]
  },
  {
   "cell_type": "markdown",
   "metadata": {},
   "source": [
    "The goal of this project is to develop recommendation systems for amazon reviews dataset using Surprise package.\n",
    "This project demonstrated the application of 6 recommendation systems, as well as the preprocessing steps needed to apply the methods.\n",
    "\n",
    "The evaluation of the project is judged upon the RMSE score calculated based on the submission to Kaggle competition at https://www.kaggle.com/c/recsys-2022/leaderboard"
   ]
  },
  {
   "cell_type": "code",
   "execution_count": 79,
   "metadata": {},
   "outputs": [],
   "source": [
    "import pandas as pd\n",
    "import numpy as np \n",
    "import matplotlib.pyplot as plt\n",
    "from surprise import KNNBasic, SVD, CoClustering, Dataset, Reader, SVDpp\n",
    "from surprise.model_selection import GridSearchCV\n",
    "from IESEGRecSys import eval\n",
    "from surprise import KNNBasic, SVD, CoClustering, Dataset, Reader, accuracy, BaselineOnly\n",
    "import surprise \n",
    "from sklearn.model_selection import train_test_split"
   ]
  },
  {
   "cell_type": "markdown",
   "metadata": {},
   "source": [
    "## Data Preprocessing\n"
   ]
  },
  {
   "cell_type": "markdown",
   "metadata": {},
   "source": [
    "To begin, we import datasets. For this project, datasets are already partitioned into train and set.\n",
    "Train set has a lenght of 161753 observations, test has a lenght of 76043 observations."
   ]
  },
  {
   "cell_type": "code",
   "execution_count": 80,
   "metadata": {},
   "outputs": [
    {
     "name": "stdout",
     "output_type": "stream",
     "text": [
      "(161753, 8)\n",
      "(76043, 3)\n"
     ]
    }
   ],
   "source": [
    "train = pd.read_csv(\"recsys-2022/train.csv\").reset_index(drop=True)\n",
    "test = pd.read_csv(\"recsys-2022/test_students.csv\").reset_index(drop=True)\n",
    "\n",
    "print(train.shape)\n",
    "print(test.shape)\n"
   ]
  },
  {
   "cell_type": "markdown",
   "metadata": {},
   "source": [
    "As we can see, the train set contains a dataframe with the following columns: 'userID', 'overall', 'asin', 'vote', 'reviewText', 'summary', 'style' and 'image'. To apply the collaborative filtering to generate recommendations, we will subset this dataframe later on. "
   ]
  },
  {
   "cell_type": "code",
   "execution_count": 81,
   "metadata": {},
   "outputs": [
    {
     "data": {
      "text/html": [
       "<div>\n",
       "<style scoped>\n",
       "    .dataframe tbody tr th:only-of-type {\n",
       "        vertical-align: middle;\n",
       "    }\n",
       "\n",
       "    .dataframe tbody tr th {\n",
       "        vertical-align: top;\n",
       "    }\n",
       "\n",
       "    .dataframe thead th {\n",
       "        text-align: right;\n",
       "    }\n",
       "</style>\n",
       "<table border=\"1\" class=\"dataframe\">\n",
       "  <thead>\n",
       "    <tr style=\"text-align: right;\">\n",
       "      <th></th>\n",
       "      <th>userID</th>\n",
       "      <th>overall</th>\n",
       "      <th>asin</th>\n",
       "      <th>vote</th>\n",
       "      <th>reviewText</th>\n",
       "      <th>summary</th>\n",
       "      <th>style</th>\n",
       "      <th>image</th>\n",
       "    </tr>\n",
       "  </thead>\n",
       "  <tbody>\n",
       "    <tr>\n",
       "      <th>0</th>\n",
       "      <td>13527</td>\n",
       "      <td>5.0</td>\n",
       "      <td>B0002565TI</td>\n",
       "      <td>NaN</td>\n",
       "      <td>These filters used to be sold at PetCo, but no...</td>\n",
       "      <td>Great Place to Get Filte-rs</td>\n",
       "      <td>NaN</td>\n",
       "      <td>NaN</td>\n",
       "    </tr>\n",
       "    <tr>\n",
       "      <th>1</th>\n",
       "      <td>14608</td>\n",
       "      <td>2.0</td>\n",
       "      <td>B0002H3ZLM</td>\n",
       "      <td>NaN</td>\n",
       "      <td>Did not work for my large- does. Returned it.</td>\n",
       "      <td>T#wo Stars</td>\n",
       "      <td>{'Size:': ' LARGE 60-130 LBS.', 'Color:': ' BL...</td>\n",
       "      <td>NaN</td>\n",
       "    </tr>\n",
       "    <tr>\n",
       "      <th>2</th>\n",
       "      <td>15536</td>\n",
       "      <td>5.0</td>\n",
       "      <td>B0009YD8OC</td>\n",
       "      <td>NaN</td>\n",
       "      <td>I was pretty skeptical that this would be easy...</td>\n",
       "      <td>stops pulling in a 6 month 60{ pound pup great!</td>\n",
       "      <td>NaN</td>\n",
       "      <td>NaN</td>\n",
       "    </tr>\n",
       "    <tr>\n",
       "      <th>3</th>\n",
       "      <td>12868</td>\n",
       "      <td>5.0</td>\n",
       "      <td>B001VPA9OK</td>\n",
       "      <td>NaN</td>\n",
       "      <td>Works great for groom-ing my dog. A must have.</td>\n",
       "      <td>Five /Stars</td>\n",
       "      <td>{'Color:': ' Silver'}</td>\n",
       "      <td>NaN</td>\n",
       "    </tr>\n",
       "    <tr>\n",
       "      <th>4</th>\n",
       "      <td>181</td>\n",
       "      <td>5.0</td>\n",
       "      <td>B000K67UF2</td>\n",
       "      <td>NaN</td>\n",
       "      <td>Great cage for budgies! I cant say enough marv...</td>\n",
       "      <td>Great cage for budg{ies</td>\n",
       "      <td>{'Size:': ' Medium', 'Pattern:': ' MO2 Cage'}</td>\n",
       "      <td>NaN</td>\n",
       "    </tr>\n",
       "  </tbody>\n",
       "</table>\n",
       "</div>"
      ],
      "text/plain": [
       "   userID  overall        asin vote  \\\n",
       "0   13527      5.0  B0002565TI  NaN   \n",
       "1   14608      2.0  B0002H3ZLM  NaN   \n",
       "2   15536      5.0  B0009YD8OC  NaN   \n",
       "3   12868      5.0  B001VPA9OK  NaN   \n",
       "4     181      5.0  B000K67UF2  NaN   \n",
       "\n",
       "                                          reviewText  \\\n",
       "0  These filters used to be sold at PetCo, but no...   \n",
       "1      Did not work for my large- does. Returned it.   \n",
       "2  I was pretty skeptical that this would be easy...   \n",
       "3     Works great for groom-ing my dog. A must have.   \n",
       "4  Great cage for budgies! I cant say enough marv...   \n",
       "\n",
       "                                           summary  \\\n",
       "0                      Great Place to Get Filte-rs   \n",
       "1                                       T#wo Stars   \n",
       "2  stops pulling in a 6 month 60{ pound pup great!   \n",
       "3                                      Five /Stars   \n",
       "4                          Great cage for budg{ies   \n",
       "\n",
       "                                               style image  \n",
       "0                                                NaN   NaN  \n",
       "1  {'Size:': ' LARGE 60-130 LBS.', 'Color:': ' BL...   NaN  \n",
       "2                                                NaN   NaN  \n",
       "3                              {'Color:': ' Silver'}   NaN  \n",
       "4      {'Size:': ' Medium', 'Pattern:': ' MO2 Cage'}   NaN  "
      ]
     },
     "execution_count": 81,
     "metadata": {},
     "output_type": "execute_result"
    }
   ],
   "source": [
    "train.head(5)\n"
   ]
  },
  {
   "cell_type": "markdown",
   "metadata": {},
   "source": [
    "Test set only contains ID, which is a concatenated string of UserID and asin. "
   ]
  },
  {
   "cell_type": "code",
   "execution_count": 82,
   "metadata": {},
   "outputs": [
    {
     "data": {
      "text/html": [
       "<div>\n",
       "<style scoped>\n",
       "    .dataframe tbody tr th:only-of-type {\n",
       "        vertical-align: middle;\n",
       "    }\n",
       "\n",
       "    .dataframe tbody tr th {\n",
       "        vertical-align: top;\n",
       "    }\n",
       "\n",
       "    .dataframe thead th {\n",
       "        text-align: right;\n",
       "    }\n",
       "</style>\n",
       "<table border=\"1\" class=\"dataframe\">\n",
       "  <thead>\n",
       "    <tr style=\"text-align: right;\">\n",
       "      <th></th>\n",
       "      <th>ID</th>\n",
       "      <th>userID</th>\n",
       "      <th>asin</th>\n",
       "    </tr>\n",
       "  </thead>\n",
       "  <tbody>\n",
       "    <tr>\n",
       "      <th>0</th>\n",
       "      <td>21069B00BFK2B24</td>\n",
       "      <td>21069</td>\n",
       "      <td>B00BFK2B24</td>\n",
       "    </tr>\n",
       "    <tr>\n",
       "      <th>1</th>\n",
       "      <td>3506B00ZK0Y7R2</td>\n",
       "      <td>3506</td>\n",
       "      <td>B00ZK0Y7R2</td>\n",
       "    </tr>\n",
       "    <tr>\n",
       "      <th>2</th>\n",
       "      <td>21907B0002AQPA2</td>\n",
       "      <td>21907</td>\n",
       "      <td>B0002AQPA2</td>\n",
       "    </tr>\n",
       "    <tr>\n",
       "      <th>3</th>\n",
       "      <td>14092B0002DHXX2</td>\n",
       "      <td>14092</td>\n",
       "      <td>B0002DHXX2</td>\n",
       "    </tr>\n",
       "    <tr>\n",
       "      <th>4</th>\n",
       "      <td>3085B0006VB3SQ</td>\n",
       "      <td>3085</td>\n",
       "      <td>B0006VB3SQ</td>\n",
       "    </tr>\n",
       "  </tbody>\n",
       "</table>\n",
       "</div>"
      ],
      "text/plain": [
       "                ID  userID        asin\n",
       "0  21069B00BFK2B24   21069  B00BFK2B24\n",
       "1   3506B00ZK0Y7R2    3506  B00ZK0Y7R2\n",
       "2  21907B0002AQPA2   21907  B0002AQPA2\n",
       "3  14092B0002DHXX2   14092  B0002DHXX2\n",
       "4   3085B0006VB3SQ    3085  B0006VB3SQ"
      ]
     },
     "execution_count": 82,
     "metadata": {},
     "output_type": "execute_result"
    }
   ],
   "source": [
    "test.head(5)"
   ]
  },
  {
   "cell_type": "markdown",
   "metadata": {},
   "source": [
    "A subset of the trainset to only include UserID, asin (itemID) and rating to create a user-item rating matrix that can later be fed to the surprise package."
   ]
  },
  {
   "cell_type": "code",
   "execution_count": 83,
   "metadata": {},
   "outputs": [
    {
     "data": {
      "text/html": [
       "<div>\n",
       "<style scoped>\n",
       "    .dataframe tbody tr th:only-of-type {\n",
       "        vertical-align: middle;\n",
       "    }\n",
       "\n",
       "    .dataframe tbody tr th {\n",
       "        vertical-align: top;\n",
       "    }\n",
       "\n",
       "    .dataframe thead th {\n",
       "        text-align: right;\n",
       "    }\n",
       "</style>\n",
       "<table border=\"1\" class=\"dataframe\">\n",
       "  <thead>\n",
       "    <tr style=\"text-align: right;\">\n",
       "      <th></th>\n",
       "      <th>userID</th>\n",
       "      <th>asin</th>\n",
       "      <th>overall</th>\n",
       "    </tr>\n",
       "  </thead>\n",
       "  <tbody>\n",
       "    <tr>\n",
       "      <th>0</th>\n",
       "      <td>13527</td>\n",
       "      <td>B0002565TI</td>\n",
       "      <td>5.0</td>\n",
       "    </tr>\n",
       "    <tr>\n",
       "      <th>1</th>\n",
       "      <td>14608</td>\n",
       "      <td>B0002H3ZLM</td>\n",
       "      <td>2.0</td>\n",
       "    </tr>\n",
       "    <tr>\n",
       "      <th>2</th>\n",
       "      <td>15536</td>\n",
       "      <td>B0009YD8OC</td>\n",
       "      <td>5.0</td>\n",
       "    </tr>\n",
       "    <tr>\n",
       "      <th>3</th>\n",
       "      <td>12868</td>\n",
       "      <td>B001VPA9OK</td>\n",
       "      <td>5.0</td>\n",
       "    </tr>\n",
       "    <tr>\n",
       "      <th>4</th>\n",
       "      <td>181</td>\n",
       "      <td>B000K67UF2</td>\n",
       "      <td>5.0</td>\n",
       "    </tr>\n",
       "  </tbody>\n",
       "</table>\n",
       "</div>"
      ],
      "text/plain": [
       "   userID        asin  overall\n",
       "0   13527  B0002565TI      5.0\n",
       "1   14608  B0002H3ZLM      2.0\n",
       "2   15536  B0009YD8OC      5.0\n",
       "3   12868  B001VPA9OK      5.0\n",
       "4     181  B000K67UF2      5.0"
      ]
     },
     "execution_count": 83,
     "metadata": {},
     "output_type": "execute_result"
    }
   ],
   "source": [
    "train = train[['userID','asin','overall']]\n",
    "train.head()"
   ]
  },
  {
   "cell_type": "code",
   "execution_count": 101,
   "metadata": {},
   "outputs": [
    {
     "data": {
      "image/png": "[encoded data removed]",
      "text/plain": [
       "<Figure size 432x288 with 1 Axes>"
      ]
     },
     "metadata": {
      "needs_background": "light"
     },
     "output_type": "display_data"
    }
   ],
   "source": [
    "plt.hist(train['overall'])\n",
    "plt.show()"
   ]
  },
  {
   "cell_type": "markdown",
   "metadata": {},
   "source": [
    "For the test set, ID column is removed and an empty ratings columns is created, for which the prediction will be made later on. "
   ]
  },
  {
   "cell_type": "code",
   "execution_count": 84,
   "metadata": {},
   "outputs": [
    {
     "data": {
      "text/html": [
       "<div>\n",
       "<style scoped>\n",
       "    .dataframe tbody tr th:only-of-type {\n",
       "        vertical-align: middle;\n",
       "    }\n",
       "\n",
       "    .dataframe tbody tr th {\n",
       "        vertical-align: top;\n",
       "    }\n",
       "\n",
       "    .dataframe thead th {\n",
       "        text-align: right;\n",
       "    }\n",
       "</style>\n",
       "<table border=\"1\" class=\"dataframe\">\n",
       "  <thead>\n",
       "    <tr style=\"text-align: right;\">\n",
       "      <th></th>\n",
       "      <th>userID</th>\n",
       "      <th>asin</th>\n",
       "      <th>overall</th>\n",
       "    </tr>\n",
       "  </thead>\n",
       "  <tbody>\n",
       "    <tr>\n",
       "      <th>0</th>\n",
       "      <td>21069</td>\n",
       "      <td>B00BFK2B24</td>\n",
       "      <td>0</td>\n",
       "    </tr>\n",
       "    <tr>\n",
       "      <th>1</th>\n",
       "      <td>3506</td>\n",
       "      <td>B00ZK0Y7R2</td>\n",
       "      <td>0</td>\n",
       "    </tr>\n",
       "    <tr>\n",
       "      <th>2</th>\n",
       "      <td>21907</td>\n",
       "      <td>B0002AQPA2</td>\n",
       "      <td>0</td>\n",
       "    </tr>\n",
       "    <tr>\n",
       "      <th>3</th>\n",
       "      <td>14092</td>\n",
       "      <td>B0002DHXX2</td>\n",
       "      <td>0</td>\n",
       "    </tr>\n",
       "    <tr>\n",
       "      <th>4</th>\n",
       "      <td>3085</td>\n",
       "      <td>B0006VB3SQ</td>\n",
       "      <td>0</td>\n",
       "    </tr>\n",
       "  </tbody>\n",
       "</table>\n",
       "</div>"
      ],
      "text/plain": [
       "   userID        asin  overall\n",
       "0   21069  B00BFK2B24        0\n",
       "1    3506  B00ZK0Y7R2        0\n",
       "2   21907  B0002AQPA2        0\n",
       "3   14092  B0002DHXX2        0\n",
       "4    3085  B0006VB3SQ        0"
      ]
     },
     "execution_count": 84,
     "metadata": {},
     "output_type": "execute_result"
    }
   ],
   "source": [
    "test = test[['userID', 'asin']]\n",
    "test['overall'] = 0\n",
    "test.head()"
   ]
  },
  {
   "cell_type": "markdown",
   "metadata": {},
   "source": [
    "## Train-validation split"
   ]
  },
  {
   "cell_type": "markdown",
   "metadata": {},
   "source": [
    "Datasets are given as train and test already. However, test set will be used to make a final prediction and submit to the kaggle competition. As an intermediary step, validation test is needed to compute the evaluation metrics. \n",
    "\n",
    "Using train_test_split function of sklearn package, validation test set is set to be 20% of the train."
   ]
  },
  {
   "cell_type": "code",
   "execution_count": 85,
   "metadata": {},
   "outputs": [],
   "source": [
    "# train-test split\n",
    "train, validation = train_test_split(train, test_size=0.2, random_state=42)\n",
    "\n",
    "# reset index\n",
    "train = train.reset_index(drop=True)\n",
    "validation = validation.reset_index(drop=True)\n"
   ]
  },
  {
   "cell_type": "markdown",
   "metadata": {},
   "source": [
    "## Defining Surprise datasets"
   ]
  },
  {
   "cell_type": "markdown",
   "metadata": {},
   "source": [
    "To apply recommendation algorithms of the surprise package, we need to create surprise datasets. We define a variable \"reader\" to define a rating scale given by the users, which from 1 (lowest) to 5 (highest).\n",
    "\n",
    "We then load pandas dataframe to surprise dataframe via *surprise.Dataset.load_from_df*.\n",
    "For the test set, we use the *intertuples* function to create an object of tuples for each row of the test data frame."
   ]
  },
  {
   "cell_type": "code",
   "execution_count": 86,
   "metadata": {},
   "outputs": [],
   "source": [
    "reader = surprise.Reader(rating_scale=(1, 5))\n",
    "\n",
    "data = surprise.Dataset.load_from_df(train, reader) #for the grid search\n",
    "df_train = surprise.Dataset.load_from_df(train, reader).build_full_trainset()\n",
    "df_validation = list(validation.itertuples(index=False, name=None))\n",
    "df_test = list(test.itertuples(index=False, name=None))"
   ]
  },
  {
   "cell_type": "markdown",
   "metadata": {},
   "source": [
    "## Defining the algorythms \n"
   ]
  },
  {
   "cell_type": "markdown",
   "metadata": {},
   "source": [
    "We define 6 prediction algorythms for application:\n",
    "\n",
    "* User-based KNN\n",
    "* Item-based KNN\n",
    "* Baseline \n",
    "* SVD\n",
    "* SVD ++\n",
    "* CoClustering"
   ]
  },
  {
   "cell_type": "markdown",
   "metadata": {},
   "source": [
    "#### KNN\n",
    "KNNbasic is derived from the k-nearest neighbors approach. It is a collaborative filtering algorithm, meaning recommendations will be made based on the similarities in preferences of other users.\n",
    "\n",
    "An estimation is computed based on the aggregation of the nearest K (equal or less than) neighbors. Only positively correlated neighbors considered for the estimation.\n",
    "\n",
    "User-based set to **True** will compute similarities between users, whereas **False** will compute similarities between items.\n",
    "For both user-based and item based KNNbasic, a minimum of 5 and a maximum of 15 neighbors was selected. \n",
    "To compute the similarity **cosine** measure is selected in the name option. Also known as vector-based similarity, similarity is computed as sum of products between two vectors divided by the product of their length."
   ]
  },
  {
   "cell_type": "code",
   "execution_count": 96,
   "metadata": {},
   "outputs": [],
   "source": [
    "# user-based\n",
    "options = {'name':'cosine', 'user_based':True}\n",
    "ub = KNNBasic(k=15, min_k=5, sim_options=options, random_state=42)\n",
    "\n",
    "# item-based\n",
    "options = {'name':'cosine', 'user_based':False}\n",
    "ib = KNNBasic(k=15, min_k=5, sim_options=options, random_state=42)"
   ]
  },
  {
   "cell_type": "markdown",
   "metadata": {},
   "source": [
    "#### Baseline\n",
    "\n",
    "Baseline algorithms tries to minimize regularized square error of the observation. It estimates the baseline for the given user and item using Alternating Least Squares approach. **n_epoch**, the number of iterations of the ALS procedure is set to 30. "
   ]
  },
  {
   "cell_type": "code",
   "execution_count": 98,
   "metadata": {},
   "outputs": [],
   "source": [
    "# =alternating least squares (ALS) and 30 epochs\n",
    "options = {\"method\": \"als\", \"n_epochs\": 30}\n",
    "als = BaselineOnly(bsl_options=options)"
   ]
  },
  {
   "cell_type": "markdown",
   "metadata": {},
   "source": [
    "#### SVD and SVDpp\n",
    "\n",
    "SVD, or single value decomposition algorithm, is a matrix factorization technique. SVD decomposes user-item matrix into left and right singular and diagnonal matrices. It then factorized the decomposed matrices to reduce dimensionality. Hence, it simplifies data, removes noise and improves the result given by the algorithm.\n",
    "\n",
    "SVDpp is the extension of the SVD, and is considered to produce a better prediction results than SVD. SVD++ takes into account implicit ratings, meaning it takes into account the fact that specific user rated a specific item, regardless of the rating score given. \n",
    "\n",
    "We apply both with **n_factors** of 50 factors, and **random_state** of 42 (making results reproducible). With one difference, **biased = True** for the SVD, using the biased version of the algorithm, instead of its probabilistic (unbiased) version."
   ]
  },
  {
   "cell_type": "code",
   "execution_count": 87,
   "metadata": {},
   "outputs": [],
   "source": [
    "# svd\n",
    "mf = SVD(n_factors=50, biased=True, random_state=42)\n",
    "\n",
    "# svd ++\n",
    "svd_pp = SVDpp(n_factors=100,  random_state=42)\n",
    "\n"
   ]
  },
  {
   "cell_type": "markdown",
   "metadata": {},
   "source": [
    "#### Co-Clustering\n",
    "\n",
    "In this collaborative-filtering algorithm, users and items each assigned to the pre-defined number of clusters, and some co-clusters, based on their similarity.\n",
    "\n",
    "The number of user clusters **n_cltr_u** is set to 10, number of items clusters, **n_cltr_i**, is set to 10. Number of iterations **n_epoch** is set to 50."
   ]
  },
  {
   "cell_type": "code",
   "execution_count": null,
   "metadata": {},
   "outputs": [],
   "source": [
    "\n",
    "# clustering\n",
    "clust = CoClustering(n_cltr_u=10, n_cltr_i=10, n_epochs=50, random_state=42)"
   ]
  },
  {
   "cell_type": "markdown",
   "metadata": {},
   "source": [
    "## Applying and evaluating algorithms"
   ]
  },
  {
   "cell_type": "markdown",
   "metadata": {},
   "source": [
    "The above defined models are fit on the train data set, and evaluation results are computed by fitting on the validation set. \n",
    "Of the 6 defined models, SVD yields the best results with RMSE of 1.071 and MAE of 0.789, as well as the higher precision of 0.861.\n",
    "However, the recall, or the ratio of correct identification of the true-positive to all actual true positives is 0.851, which is inferior to those given by KNN and Baseline models, dragging the F1, model accuracy on the dataset, down.\n"
   ]
  },
  {
   "cell_type": "code",
   "execution_count": 95,
   "metadata": {},
   "outputs": [
    {
     "name": "stdout",
     "output_type": "stream",
     "text": [
      "Computing the cosine similarity matrix...\n",
      "Done computing similarity matrix.\n",
      "Computing the cosine similarity matrix...\n",
      "Done computing similarity matrix.\n",
      "Estimating biases using als...\n"
     ]
    },
    {
     "name": "stderr",
     "output_type": "stream",
     "text": [
      "<ipython-input-95-7bd4a677d2f9>:2: DeprecationWarning: `np.int` is a deprecated alias for the builtin `int`. To silence this warning, use `int` by itself. Doing this will not modify any behavior and is safe. When replacing `np.int`, you may wish to use e.g. `np.int64` or `np.int32` to specify the precision. If you wish to review your current use, check the release note link for additional information.\n",
      "Deprecated in NumPy 1.20; for more details and guidance: https://numpy.org/devdocs/release/1.20.0-notes.html#deprecations\n",
      "  overview = pd.concat([eval.evaluate(mod.fit(df_train).test(df_validation), topn=5, rating_cutoff=4) for mod in models.values()], axis=1)\n"
     ]
    },
    {
     "data": {
      "text/html": [
       "<div>\n",
       "<style scoped>\n",
       "    .dataframe tbody tr th:only-of-type {\n",
       "        vertical-align: middle;\n",
       "    }\n",
       "\n",
       "    .dataframe tbody tr th {\n",
       "        vertical-align: top;\n",
       "    }\n",
       "\n",
       "    .dataframe thead th {\n",
       "        text-align: right;\n",
       "    }\n",
       "</style>\n",
       "<table border=\"1\" class=\"dataframe\">\n",
       "  <thead>\n",
       "    <tr style=\"text-align: right;\">\n",
       "      <th></th>\n",
       "      <th>UB_KNN</th>\n",
       "      <th>IB_KNN</th>\n",
       "      <th>ALS</th>\n",
       "      <th>SVD</th>\n",
       "      <th>SVD_PP</th>\n",
       "      <th>CoClust</th>\n",
       "    </tr>\n",
       "  </thead>\n",
       "  <tbody>\n",
       "    <tr>\n",
       "      <th>RMSE</th>\n",
       "      <td>1.149506</td>\n",
       "      <td>1.135639</td>\n",
       "      <td>1.078814</td>\n",
       "      <td>1.071176</td>\n",
       "      <td>1.078126</td>\n",
       "      <td>1.267936</td>\n",
       "    </tr>\n",
       "    <tr>\n",
       "      <th>MAE</th>\n",
       "      <td>0.868751</td>\n",
       "      <td>0.865290</td>\n",
       "      <td>0.813771</td>\n",
       "      <td>0.793804</td>\n",
       "      <td>0.789118</td>\n",
       "      <td>0.837199</td>\n",
       "    </tr>\n",
       "    <tr>\n",
       "      <th>Recall</th>\n",
       "      <td>0.925091</td>\n",
       "      <td>0.947134</td>\n",
       "      <td>0.892597</td>\n",
       "      <td>0.851893</td>\n",
       "      <td>0.841289</td>\n",
       "      <td>0.770903</td>\n",
       "    </tr>\n",
       "    <tr>\n",
       "      <th>Precision</th>\n",
       "      <td>0.821526</td>\n",
       "      <td>0.823644</td>\n",
       "      <td>0.849526</td>\n",
       "      <td>0.861188</td>\n",
       "      <td>0.860018</td>\n",
       "      <td>0.860476</td>\n",
       "    </tr>\n",
       "    <tr>\n",
       "      <th>F1</th>\n",
       "      <td>0.870238</td>\n",
       "      <td>0.881083</td>\n",
       "      <td>0.870529</td>\n",
       "      <td>0.856515</td>\n",
       "      <td>0.850550</td>\n",
       "      <td>0.813230</td>\n",
       "    </tr>\n",
       "    <tr>\n",
       "      <th>NDCG@5</th>\n",
       "      <td>0.917273</td>\n",
       "      <td>0.930818</td>\n",
       "      <td>0.910222</td>\n",
       "      <td>0.910896</td>\n",
       "      <td>0.907974</td>\n",
       "      <td>0.916753</td>\n",
       "    </tr>\n",
       "  </tbody>\n",
       "</table>\n",
       "</div>"
      ],
      "text/plain": [
       "             UB_KNN    IB_KNN       ALS       SVD    SVD_PP   CoClust\n",
       "RMSE       1.149506  1.135639  1.078814  1.071176  1.078126  1.267936\n",
       "MAE        0.868751  0.865290  0.813771  0.793804  0.789118  0.837199\n",
       "Recall     0.925091  0.947134  0.892597  0.851893  0.841289  0.770903\n",
       "Precision  0.821526  0.823644  0.849526  0.861188  0.860018  0.860476\n",
       "F1         0.870238  0.881083  0.870529  0.856515  0.850550  0.813230\n",
       "NDCG@5     0.917273  0.930818  0.910222  0.910896  0.907974  0.916753"
      ]
     },
     "execution_count": 95,
     "metadata": {},
     "output_type": "execute_result"
    }
   ],
   "source": [
    "models = {\"UB_KNN\":ub, \"IB_KNN\":ib, \"ALS\":als, \"SVD\":mf, \"SVD_PP\":svd_pp, \"CoClust\":clust}\n",
    "overview = pd.concat([eval.evaluate(mod.fit(df_train).test(df_validation), topn=5, rating_cutoff=4) for mod in models.values()], axis=1)\n",
    "overview.columns = list(models.keys())\n",
    "overview"
   ]
  },
  {
   "cell_type": "markdown",
   "metadata": {},
   "source": [
    "### Hyperparameter tuning and cross-validation"
   ]
  },
  {
   "cell_type": "markdown",
   "metadata": {},
   "source": [
    "As SVD gives the best result on the validation set according to the RMSE, this is the model a search for the best hyperparameters will be made for. To do so, a dictionary **param_grid** is defined, that hold all the potential variables for the SVD model tuning. *GridSearchCV* gives the set of parameters that minimizes the mean score across **cv=3** k-fold cross validated dataset.\n",
    "\n",
    "A search on best hyperparameters is made on:\n",
    "* n_factors - number of factors\n",
    "* n_epoch - number of iterations\n",
    "* lr_all - learning rate of parameters\n",
    "* reg_all - regularization term of parameters."
   ]
  },
  {
   "cell_type": "code",
   "execution_count": 68,
   "metadata": {},
   "outputs": [],
   "source": [
    "param_grid = {'n_factors':[ 50, 150, 200],\n",
    "             'n_epochs':[20,40, 60],\n",
    "              'biased' : [True],\n",
    "             'lr_all':[ 0.02 ,0.03, 0.04],\n",
    "             'reg_all':[0.02,0.04,0.05]}\n",
    "\n",
    "gs = GridSearchCV(SVD,\n",
    "                            param_grid=param_grid,\n",
    "                            measures=['rmse'],\n",
    "                            cv=3)\n",
    "gs.fit(data)"
   ]
  },
  {
   "cell_type": "code",
   "execution_count": 92,
   "metadata": {},
   "outputs": [
    {
     "name": "stdout",
     "output_type": "stream",
     "text": [
      "Best params with respect to RMSE:  {'n_factors': 200, 'n_epochs': 60, 'biased': True, 'lr_all': 0.04, 'reg_all': 0.04}\n",
      "RMSE achieved: {'rmse': 1.0676338947587207}\n"
     ]
    }
   ],
   "source": [
    "print(f\"Best params with respect to RMSE: \",gs.best_params['rmse'])\n",
    "print(f\"RMSE achieved:\", gs.best_score)"
   ]
  },
  {
   "cell_type": "markdown",
   "metadata": {},
   "source": [
    "## Application of the final model"
   ]
  },
  {
   "cell_type": "markdown",
   "metadata": {},
   "source": [
    "The above are the results of the *last* run of the grid search. RMSE achieved with those parameters is 1.067. Those parameters, stored in *params* variable, are used to define the model and predict the test dataset values."
   ]
  },
  {
   "cell_type": "code",
   "execution_count": 99,
   "metadata": {},
   "outputs": [],
   "source": [
    "#fitting SVD with the best params according to RMSE\n",
    "\n",
    "params = gs.best_params['rmse']\n",
    "\n",
    "final_model = SVD(n_factors=params['n_factors'], n_epochs=params['n_epochs'],lr_all=params['lr_all'], reg_all=params['reg_all'])\n",
    "\n",
    "#fit on training set\n",
    "final_model.fit(df_train)\n",
    "pred_df = final_model.test(df_test)\n"
   ]
  },
  {
   "cell_type": "markdown",
   "metadata": {},
   "source": [
    "Lastly, we make a pandas dataframe of the resulting test prediction. We finalize by combining id and asin variables into a single ID variable. The resulting dataframe for Kaggle competition submission contains ID and Overall estimated result for each observation. "
   ]
  },
  {
   "cell_type": "code",
   "execution_count": 71,
   "metadata": {},
   "outputs": [
    {
     "data": {
      "text/html": [
       "<div>\n",
       "<style scoped>\n",
       "    .dataframe tbody tr th:only-of-type {\n",
       "        vertical-align: middle;\n",
       "    }\n",
       "\n",
       "    .dataframe tbody tr th {\n",
       "        vertical-align: top;\n",
       "    }\n",
       "\n",
       "    .dataframe thead th {\n",
       "        text-align: right;\n",
       "    }\n",
       "</style>\n",
       "<table border=\"1\" class=\"dataframe\">\n",
       "  <thead>\n",
       "    <tr style=\"text-align: right;\">\n",
       "      <th></th>\n",
       "      <th>ID</th>\n",
       "      <th>overall</th>\n",
       "    </tr>\n",
       "  </thead>\n",
       "  <tbody>\n",
       "    <tr>\n",
       "      <th>0</th>\n",
       "      <td>21069B00BFK2B24</td>\n",
       "      <td>2.870341</td>\n",
       "    </tr>\n",
       "    <tr>\n",
       "      <th>1</th>\n",
       "      <td>3506B00ZK0Y7R2</td>\n",
       "      <td>3.186308</td>\n",
       "    </tr>\n",
       "    <tr>\n",
       "      <th>2</th>\n",
       "      <td>21907B0002AQPA2</td>\n",
       "      <td>3.460876</td>\n",
       "    </tr>\n",
       "    <tr>\n",
       "      <th>3</th>\n",
       "      <td>14092B0002DHXX2</td>\n",
       "      <td>4.501385</td>\n",
       "    </tr>\n",
       "    <tr>\n",
       "      <th>4</th>\n",
       "      <td>3085B0006VB3SQ</td>\n",
       "      <td>4.714695</td>\n",
       "    </tr>\n",
       "  </tbody>\n",
       "</table>\n",
       "</div>"
      ],
      "text/plain": [
       "                ID   overall\n",
       "0  21069B00BFK2B24  2.870341\n",
       "1   3506B00ZK0Y7R2  3.186308\n",
       "2  21907B0002AQPA2  3.460876\n",
       "3  14092B0002DHXX2  4.501385\n",
       "4   3085B0006VB3SQ  4.714695"
      ]
     },
     "execution_count": 71,
     "metadata": {},
     "output_type": "execute_result"
    }
   ],
   "source": [
    "pred_df = pd.DataFrame(pred_df)\n",
    "pred_df = pred_df[[\"uid\",\"iid\",\"est\"]]\n",
    "pred_df[\"ID\"] = pred_df[\"uid\"].astype(\"str\") + pred_df[\"iid\"].astype(\"str\")\n",
    "pred_df = pred_df.rename(columns={\"est\":\"overall\"})\n",
    "pred_df = pred_df[['ID','overall']]\n",
    "\n",
    "pred_df.head()"
   ]
  },
  {
   "cell_type": "code",
   "execution_count": 72,
   "metadata": {},
   "outputs": [],
   "source": [
    "pred_df.to_csv(\"results/results.csv\",index=False)"
   ]
  },
  {
   "cell_type": "markdown",
   "metadata": {},
   "source": [
    "## Conclusion\n",
    "\n",
    "Using the hyperparameter tuned, cross-validated SVD model, the best achieved submission was an RMSE of 0.96807."
   ]
  },
  {
   "cell_type": "markdown",
   "metadata": {},
   "source": [
    "### References"
   ]
  },
  {
   "cell_type": "markdown",
   "metadata": {},
   "source": [
    "* https://medium.com/@erikgreenj/k-neighbors-classifier-with-gridsearchcv-basics-3c445ddeb657\n",
    "* https://towardsdatascience.com/building-and-testing-recommender-systems-with-surprise-step-by-step-d4ba702ef80b\n",
    "* https://surprise.readthedocs.io/en/stable/prediction_algorithms_package.html\n",
    "* https://towardsdatascience.com/svd-where-model-tuning-goes-wrong-61c269402919\n"
   ]
  }
 ],
 "metadata": {
  "interpreter": {
   "hash": "d7ff20910c5304552d0b4c1164dfc0a171c277810953fa1692cab57ae17a1bfb"
  },
  "kernelspec": {
   "display_name": "Python 3.10.2 64-bit ('r-environment': conda)",
   "language": "python",
   "name": "python3"
  },
  "language_info": {
   "codemirror_mode": {
    "name": "ipython",
    "version": 3
   },
   "file_extension": ".py",
   "mimetype": "text/x-python",
   "name": "python",
   "nbconvert_exporter": "python",
   "pygments_lexer": "ipython3",
   "version": "3.9.4"
  },
  "orig_nbformat": 4
 },
 "nbformat": 4,
 "nbformat_minor": 2
}
